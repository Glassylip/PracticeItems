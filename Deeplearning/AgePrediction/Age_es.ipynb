{
 "cells": [
  {
   "cell_type": "code",
   "execution_count": 1,
   "metadata": {},
   "outputs": [],
   "source": [
    "%reload_ext autoreload\n",
    "%autoreload 2\n",
    "%matplotlib inline"
   ]
  },
  {
   "cell_type": "code",
   "execution_count": 2,
   "metadata": {},
   "outputs": [],
   "source": [
    "import pafy\n",
    "from fastai import *\n",
    "from fastai.vision import *\n",
    "from fastai.widgets import *\n",
    "from PIL import Image as Img  \n",
    "import numpy as np\n",
    "torch.cuda.current_device()#個人PCのエラー対策用\n",
    "import cv2\n",
    "import matplotlib.pyplot as plt"
   ]
  },
  {
   "cell_type": "markdown",
   "metadata": {},
   "source": [
    "# C3AE Model"
   ]
  },
  {
   "cell_type": "code",
   "execution_count": 4,
   "metadata": {
    "scrolled": true
   },
   "outputs": [
    {
     "data": {
      "text/plain": [
       "Learner(data=ImageDataBunch;\n",
       "\n",
       "Train: LabelList (0 items)\n",
       "x: ImageList\n",
       "\n",
       "y: CategoryList\n",
       "\n",
       "Path: C:\\Users\\12829\\Desktop\\deepblue\\age prediction\\UTKFace.tar\\UTKFace;\n",
       "\n",
       "Valid: LabelList (0 items)\n",
       "x: ImageList\n",
       "\n",
       "y: CategoryList\n",
       "\n",
       "Path: C:\\Users\\12829\\Desktop\\deepblue\\age prediction\\UTKFace.tar\\UTKFace;\n",
       "\n",
       "Test: None, model=Sequential(\n",
       "  (0): Sequential(\n",
       "    (0): Conv2d(3, 32, kernel_size=(3, 3), stride=(1, 1))\n",
       "    (1): BatchNorm2d(32, eps=1e-05, momentum=0.1, affine=True, track_running_stats=True)\n",
       "    (2): ReLU()\n",
       "  )\n",
       "  (1): AvgPool2d(kernel_size=2, stride=2, padding=0)\n",
       "  (2): Sequential(\n",
       "    (0): Conv2d(32, 32, kernel_size=(3, 3), stride=(1, 1))\n",
       "    (1): BatchNorm2d(32, eps=1e-05, momentum=0.1, affine=True, track_running_stats=True)\n",
       "    (2): ReLU()\n",
       "  )\n",
       "  (3): AvgPool2d(kernel_size=2, stride=2, padding=0)\n",
       "  (4): Sequential(\n",
       "    (0): Conv2d(32, 32, kernel_size=(3, 3), stride=(1, 1))\n",
       "    (1): BatchNorm2d(32, eps=1e-05, momentum=0.1, affine=True, track_running_stats=True)\n",
       "    (2): ReLU()\n",
       "  )\n",
       "  (5): AvgPool2d(kernel_size=2, stride=2, padding=0)\n",
       "  (6): Sequential(\n",
       "    (0): Conv2d(32, 32, kernel_size=(3, 3), stride=(1, 1))\n",
       "    (1): BatchNorm2d(32, eps=1e-05, momentum=0.1, affine=True, track_running_stats=True)\n",
       "    (2): ReLU()\n",
       "  )\n",
       "  (7): Conv2d(32, 32, kernel_size=(1, 1), stride=(1, 1))\n",
       "  (8): Flatten()\n",
       "), opt_func=functools.partial(<class 'torch.optim.adam.Adam'>, betas=(0.9, 0.99)), loss_func=FlattenedLoss of CrossEntropyLoss(), metrics=[], true_wd=True, bn_wd=True, wd=0.01, train_bn=True, path=WindowsPath('C:/Users/12829/Desktop/deepblue/age prediction/UTKFace.tar/UTKFace'), model_dir='models', callback_fns=[functools.partial(<class 'fastai.basic_train.Recorder'>, add_time=True, silent=False)], callbacks=[], layer_groups=[Sequential(\n",
       "  (0): Conv2d(3, 32, kernel_size=(3, 3), stride=(1, 1))\n",
       "  (1): BatchNorm2d(32, eps=1e-05, momentum=0.1, affine=True, track_running_stats=True)\n",
       "  (2): ReLU()\n",
       "  (3): AvgPool2d(kernel_size=2, stride=2, padding=0)\n",
       "  (4): Conv2d(32, 32, kernel_size=(3, 3), stride=(1, 1))\n",
       "  (5): BatchNorm2d(32, eps=1e-05, momentum=0.1, affine=True, track_running_stats=True)\n",
       "  (6): ReLU()\n",
       "  (7): AvgPool2d(kernel_size=2, stride=2, padding=0)\n",
       "  (8): Conv2d(32, 32, kernel_size=(3, 3), stride=(1, 1))\n",
       "  (9): BatchNorm2d(32, eps=1e-05, momentum=0.1, affine=True, track_running_stats=True)\n",
       "  (10): ReLU()\n",
       "  (11): AvgPool2d(kernel_size=2, stride=2, padding=0)\n",
       "  (12): Conv2d(32, 32, kernel_size=(3, 3), stride=(1, 1))\n",
       "  (13): BatchNorm2d(32, eps=1e-05, momentum=0.1, affine=True, track_running_stats=True)\n",
       "  (14): ReLU()\n",
       "  (15): Conv2d(32, 32, kernel_size=(1, 1), stride=(1, 1))\n",
       "  (16): Flatten()\n",
       ")], add_time=True, silent=False)"
      ]
     },
     "execution_count": 4,
     "metadata": {},
     "output_type": "execute_result"
    }
   ],
   "source": [
    "path=r\"\"\n",
    "classes=['1', '10', '100', '101', '103', '105', '11', '110', '115', '116', '12', '13', '14', '15', '16', '17', '18', '19', '2', '20', '21', '22', '23', '24', '25', '26', '27', '28', '29', '3', '30', '31', '32', '33', '34', '35', '36', '37', '38', '39', '4', '40', '41', '42', '43', '44', '45', '46', '47', '48', '49', '5', '50', '51', '52', '53', '54', '55', '56', '57', '58', '59', '6', '60', '61', '62', '63', '64', '65', '66', '67', '68', '69', '7', '70', '71', '72', '73', '74', '75', '76', '77', '78', '79', '8', '80', '81', '82', '83', '84', '85', '86', '87', '88', '89', '9', '90', '91', '92', '93', '95', '96', '99']\n",
    "def conv(ni,nf,ks): return nn.Sequential(nn.Conv2d(ni,nf,ks,stride=1),nn.BatchNorm2d(32),nn.ReLU())\n",
    "\n",
    "model= nn.Sequential(\n",
    "    conv(3,32,3),\n",
    "    nn.AvgPool2d(2,2),\n",
    "    conv(32,32,3),\n",
    "    nn.AvgPool2d(2,2),\n",
    "    conv(32,32,3),\n",
    "    nn.AvgPool2d(2,2),\n",
    "    conv(32,32,3),\n",
    "    nn.Conv2d(32,32,1),\n",
    "    Flatten()\n",
    ")\n",
    "\n",
    "data = ImageDataBunch.single_from_classes(path, classes, ds_tfms=get_transforms(), size=64).normalize(imagenet_stats)\n",
    "learn = Learner(data, model)\n",
    "learn.load('C3AE_age1')"
   ]
  },
  {
   "cell_type": "markdown",
   "metadata": {},
   "source": [
    "# Camera"
   ]
  },
  {
   "cell_type": "code",
   "execution_count": 5,
   "metadata": {
    "scrolled": true
   },
   "outputs": [
    {
     "data": {
      "image/png": "[encoded data removed]",
      "text/plain": [
       "<Figure size 432x288 with 1 Axes>"
      ]
     },
     "metadata": {
      "needs_background": "light"
     },
     "output_type": "display_data"
    }
   ],
   "source": [
    "cap = cv2.VideoCapture(0)\n",
    "face_detect = cv2.CascadeClassifier(r'haarcascade_frontalface_alt.xml')\n",
    "num_list = []\n",
    "while True:\n",
    "    # カメラ読み込み\n",
    "    flag, frame = cap.read()\n",
    "    if flag == False:\n",
    "        print(\"error\")\n",
    "        break\n",
    "\n",
    "    # モノクロ画像転換\n",
    "    gray = cv2.cvtColor(frame, code=cv2.COLOR_BGR2GRAY)\n",
    "\n",
    "    # 顔検出\n",
    "    face_zone = face_detect.detectMultiScale(gray, scaleFactor = 1.2, minNeighbors = 5)\n",
    "    \n",
    "    #type transform\n",
    "    img=Image(pil2tensor(frame, dtype=np.float32).div_(255))\n",
    "    #predction\n",
    "    pred_class =str(learn.predict(img)[0])\n",
    "    \n",
    "    # 人数初期化\n",
    "    num = 0\n",
    "    \n",
    "    #複数顔の処理\n",
    "    for x, y, w, h in face_zone:\n",
    "        num = num + 1\n",
    "        #顔に矩形描画\n",
    "        cv2.rectangle(frame, pt1 = (x, y), pt2 = (x+w, y+h), color = [0,255,0], thickness=2)\n",
    "        #年齢テキスト追加\n",
    "        cv2.putText(frame, pred_class, (x,y), cv2.FONT_HERSHEY_COMPLEX, 1, (0, 255, 0), 1)\n",
    "        \n",
    "    # show\n",
    "    cv2.putText(frame, \"{}people\".format(num), (10,50), cv2.FONT_HERSHEY_COMPLEX, 1, (142, 125, 52), 1)\n",
    "    cv2.imshow('video', frame)\n",
    "    num_list.append(num)\n",
    "    # use space to quit\n",
    "    if ord(' ') == cv2.waitKey(20):\n",
    "        break\n",
    "\n",
    "cap.release()\n",
    "plt.plot(num_list,'ro')\n",
    "plt.show()\n",
    "# release\n",
    "cv2.destroyAllWindows()\n"
   ]
  },
  {
   "cell_type": "markdown",
   "metadata": {},
   "source": [
    "# Vedio"
   ]
  },
  {
   "cell_type": "code",
   "execution_count": 9,
   "metadata": {},
   "outputs": [],
   "source": [
    "face_detect = cv2.CascadeClassifier(r'haarcascade_frontalface_alt.xml')\n",
    "num_list = []\n",
    "# 識別したいURL\n",
    "url=\"https://www.youtube.com/watch?v=grEaluG1a0A\"\n",
    "vPafy= pafy.new(url)\n",
    "play= vPafy.getbest(preftype=\"mp4\")\n",
    "cap= cv2.VideoCapture(play.url)\n",
    "while True:\n",
    "    ret, frame = cap.read()\n",
    "    \n",
    "    # モノクロ画像転換\n",
    "    gray = cv2.cvtColor(frame, code=cv2.COLOR_BGR2GRAY)\n",
    "\n",
    "    # 顔検出\n",
    "    face_zone = face_detect.detectMultiScale(gray, scaleFactor = 1.2, minNeighbors = 5)\n",
    "    \n",
    "    # 人数\n",
    "    num = 0\n",
    "    \n",
    "    #複数顔の処理\n",
    "    for x, y, w, h in face_zone:\n",
    "        \n",
    "        face = frame[y:y+h, x:x+w]  # 顔ごと抽出\n",
    "\n",
    "        #type transform\n",
    "        img=Image(pil2tensor(face, dtype=np.float32).div_(255))\n",
    "        #predction\n",
    "        pred_class =str(learn.predict(img)[0])\n",
    "        \n",
    "        num = num + 1\n",
    "        # 顔に矩形描画\n",
    "        cv2.rectangle(frame, pt1 = (x, y), pt2 = (x+w, y+h), color = [0,255,0], thickness=2)\n",
    "        #年齢テキスト追加\n",
    "        cv2.putText(frame, pred_class, (x,y), cv2.FONT_HERSHEY_COMPLEX, 1, (0, 255, 0), 1)\n",
    "        \n",
    "        \n",
    "    # show frame\n",
    "    cv2.putText(frame, \"{}people\".format(num), (10,50), cv2.FONT_HERSHEY_COMPLEX, 1, (142, 125, 52), 1)\n",
    "    cv2.imshow('video', frame)\n",
    "    num_list.append(num)\n",
    "    # use space to quit\n",
    "    if ord(' ') == cv2.waitKey(20):\n",
    "        break\n",
    "        \n",
    "# release\n",
    "cv2.destroyAllWindows()"
   ]
  },
  {
   "cell_type": "code",
   "execution_count": null,
   "metadata": {},
   "outputs": [],
   "source": [
    "# 固まったら\n",
    "cv2.destroyAllWindows()"
   ]
  }
 ],
 "metadata": {
  "kernelspec": {
   "display_name": "Python 3",
   "language": "python",
   "name": "python3"
  },
  "language_info": {
   "codemirror_mode": {
    "name": "ipython",
    "version": 3
   },
   "file_extension": ".py",
   "mimetype": "text/x-python",
   "name": "python",
   "nbconvert_exporter": "python",
   "pygments_lexer": "ipython3",
   "version": "3.8.5"
  }
 },
 "nbformat": 4,
 "nbformat_minor": 4
}
