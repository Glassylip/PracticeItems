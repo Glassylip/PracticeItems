{
 "cells": [
  {
   "cell_type": "code",
   "execution_count": 1,
   "metadata": {},
   "outputs": [],
   "source": [
    "import sys,re,random\n",
    "from bs4 import BeautifulSoup as bs\n",
    "import pandas as pd\n",
    "from tqdm import tqdm\n",
    "from selenium import webdriver\n",
    "from selenium.webdriver.chrome.options import Options\n",
    "import nest_asyncio\n",
    "import aiohttp\n",
    "import asyncio\n",
    "import requests"
   ]
  },
  {
   "cell_type": "code",
   "execution_count": 2,
   "metadata": {},
   "outputs": [],
   "source": [
    "nest_asyncio.apply()"
   ]
  },
  {
   "cell_type": "markdown",
   "metadata": {},
   "source": [
    "# URL"
   ]
  },
  {
   "cell_type": "code",
   "execution_count": 3,
   "metadata": {},
   "outputs": [],
   "source": [
    "async def fetch(session, url):\n",
    "    async with session.get(url) as html:\n",
    "        return await html.text()"
   ]
  },
  {
   "cell_type": "code",
   "execution_count": 4,
   "metadata": {},
   "outputs": [],
   "source": [
    "async def parser(html):\n",
    "    soup=bs(html,'lxml')\n",
    "    #time.sleep(random.uniform(0.5,1.5))\n",
    "    urls_=soup.select('h3[class=\"width465px\"]>a')\n",
    "    sl=soup.select('span[class=\"recop-base-income\"]>span[class=\"wage\"]')\n",
    "    for i in range(len(urls_)):\n",
    "        #月額除外\n",
    "        if len(re.findall(r\"\\d*\\,*\\d+\",str(sl[i]))[0])>=3:\n",
    "            urls.append(\"https://crew.lawson.co.jp\"+re.findall(r\"<a href=\\\"(.+)\\\"><\",str(urls_[i]))[0])"
   ]
  },
  {
   "cell_type": "code",
   "execution_count": 5,
   "metadata": {},
   "outputs": [],
   "source": [
    "async def download(url):\n",
    "    async with aiohttp.ClientSession() as session:\n",
    "        html = await fetch(session, url) \n",
    "        await parser(html)"
   ]
  },
  {
   "cell_type": "code",
   "execution_count": null,
   "metadata": {},
   "outputs": [],
   "source": [
    "urls=[]\n",
    "main_url=\"https://crew.lawson.co.jp/jobfind-pc/area/HokkaidoTohoku/All?jobtype=00001,00002,00003,00004,00005,00006,00008,00009,00010,00012&page=\"\n",
    "\n",
    "#ページ数とる\n",
    "html=requests.get(main_url)\n",
    "soup=bs(html.text,'lxml')\n",
    "page_sum=soup.select('span>strong')\n",
    "page_=int(re.findall(r\"\\d+\",str(page_sum))[0])\n",
    "page=round(page_/20)+1\n",
    "\n",
    "#非同期ループ\n",
    "loop = asyncio.get_event_loop()\n",
    "tasks = [asyncio.ensure_future(download(main_url+str(i))) for i in range(1,page)]\n",
    "tasks = asyncio.gather(*tasks)\n",
    "loop.run_until_complete(tasks)\n",
    "\n",
    "urls=set(urls)"
   ]
  },
  {
   "cell_type": "markdown",
   "metadata": {},
   "source": [
    "# Store name, address, hourly wage"
   ]
  },
  {
   "cell_type": "code",
   "execution_count": 30,
   "metadata": {},
   "outputs": [],
   "source": [
    "async def parser_ads(html):\n",
    "    soup=bs(html,'lxml')\n",
    "    #time.sleep(random.uniform(0.5,1.5))\n",
    "    #店舗名\n",
    "    name_=soup.select('div[class=\"title\"] > h2')\n",
    "    if name_:\n",
    "        name.append(re.findall(r\">(.+)<\",str(name_))[0])\n",
    "        #住所\n",
    "        address=soup.select('td>label')\n",
    "        ads.append(re.findall(r\">(.+)<\",str(address))[0])\n",
    "        #時給\n",
    "        sl=str(soup.select('div[class=\"recop-base-income\"] > span[class=\"wage\"]')).replace(\",\",\"\")\n",
    "        salary.append(int(re.findall(r\"\\d+\",sl)[0]))"
   ]
  },
  {
   "cell_type": "markdown",
   "metadata": {},
   "source": [
    "async def download_ads(url,semaphore):\n",
    "    async with semaphore:\n",
    "        async with aiohttp.ClientSession() as session:\n",
    "            html = await fetch(session, url)\n",
    "            await parser_ads(html)"
   ]
  },
  {
   "cell_type": "code",
   "execution_count": 31,
   "metadata": {},
   "outputs": [],
   "source": [
    "async def download_ads(url):\n",
    "    async with aiohttp.ClientSession() as session:\n",
    "        html = await fetch(session, url)\n",
    "        await parser_ads(html)"
   ]
  },
  {
   "cell_type": "code",
   "execution_count": null,
   "metadata": {},
   "outputs": [],
   "source": [
    "ads=[]\n",
    "salary=[]\n",
    "name=[]\n",
    "loop = asyncio.get_event_loop()\n",
    "#semaphore = asyncio.Semaphore(500)\n",
    "tasks = [asyncio.ensure_future(download_ads(url)) for url in urls]\n",
    "tasks = asyncio.gather(*tasks)\n",
    "loop.run_until_complete(tasks)"
   ]
  },
  {
   "cell_type": "code",
   "execution_count": 36,
   "metadata": {},
   "outputs": [],
   "source": [
    "df=pd.read_pickle(r\"ce.pkl\")"
   ]
  },
  {
   "cell_type": "code",
   "execution_count": 37,
   "metadata": {},
   "outputs": [],
   "source": [
    "shop=[\"ローソン\" for i in range(len(name))]\n",
    "shop1=pd.DataFrame(shop)\n",
    "name1=pd.DataFrame(name)\n",
    "ads1=pd.DataFrame(ads)\n",
    "salary1=pd.DataFrame(salary)"
   ]
  },
  {
   "cell_type": "code",
   "execution_count": 38,
   "metadata": {},
   "outputs": [],
   "source": [
    "cc=pd.concat([shop1,name1,ads1,salary1],axis=1)\n",
    "cc.columns=[\"shop\",\"name\",\"address\",\"salary\"]\n",
    "cc=pd.concat([df,cc],axis=0)\n",
    "cc.to_pickle(r\"ce.pkl\")"
   ]
  },
  {
   "cell_type": "code",
   "execution_count": 47,
   "metadata": {},
   "outputs": [
    {
     "data": {
      "text/plain": [
       "1404"
      ]
     },
     "execution_count": 47,
     "metadata": {},
     "output_type": "execute_result"
    }
   ],
   "source": [
    "len(urls)"
   ]
  },
  {
   "cell_type": "code",
   "execution_count": 39,
   "metadata": {},
   "outputs": [],
   "source": [
    "cc.to_csv(r\"convenience_store.csv\",encoding=\"utf_8_sig\",index=False)"
   ]
  },
  {
   "cell_type": "code",
   "execution_count": 48,
   "metadata": {},
   "outputs": [],
   "source": [
    "hokaido=pd.DataFrame({\"shop\":pd.Series([\"セブンイレブン\",\"ファミリーマート\",\"ローソン\"]),\n",
    "             \"time\":pd.Series([58.391958236694336,103.62012648582458,50.73404240608215]),\n",
    "                     \"url_sum\":pd.Series([796,199,1404])})"
   ]
  },
  {
   "cell_type": "code",
   "execution_count": 49,
   "metadata": {},
   "outputs": [],
   "source": [
    "hokaido.to_csv(r\"hokaido.csv\",encoding=\"utf_8_sig\",index=False)"
   ]
  },
  {
   "cell_type": "markdown",
   "metadata": {},
   "source": [
    "# Store latitude and longitude, business hours"
   ]
  },
  {
   "cell_type": "code",
   "execution_count": null,
   "metadata": {},
   "outputs": [],
   "source": [
    "lat=[]\n",
    "lng=[]\n",
    "tm=[]\n",
    "main_url=\"https://www.google.com/maps/\"\n",
    "options = Options()\n",
    "driver = webdriver.Chrome(options = options)\n",
    "driver.get(main_url)\n",
    "for i in tqdm(range(len(name))):\n",
    "    #google map 検索-入力\n",
    "    driver.find_element_by_id('searchboxinput').send_keys(name[i])\n",
    "    driver.find_element_by_id('searchbox-searchbutton').click()\n",
    "    time.sleep(3)\n",
    "    lat_=re.findall(r\"3d(\\d+\\.*\\d+)!4d\",driver.current_url)[0]\n",
    "    lng_=re.findall(r\".+4d(.+)$\",driver.current_url)[0]\n",
    "    lat.append(lat_)\n",
    "    lng.append(lng_)\n",
    "    \n",
    "    tm.append(driver.find_element_by_xpath('//*[@id=\"pane\"]/div/div[1]/div/div/div[12]/div[1]/span[2]/span[2]').text)\n",
    "    \n",
    "    driver.find_element_by_id('searchboxinput').clear()\n",
    "driver.quit()"
   ]
  },
  {
   "cell_type": "markdown",
   "metadata": {},
   "source": [
    "# Data storage"
   ]
  },
  {
   "cell_type": "code",
   "execution_count": null,
   "metadata": {},
   "outputs": [],
   "source": [
    "name1=pd.DataFrame(name)\n",
    "ads1=pd.DataFrame(ads)\n",
    "tm1=pd.DataFrame(tm)\n",
    "salary1==pd.DataFrame(salary)\n",
    "lat1=pd.DataFrame(lat)\n",
    "lng1=pd.DataFrame(lng)"
   ]
  },
  {
   "cell_type": "code",
   "execution_count": null,
   "metadata": {},
   "outputs": [],
   "source": [
    "cc=pd.concat([name1,ads1,tm1,salary1,lat1,lng1],axis=1)\n",
    "cc.columns=[\"name\",\"address\",\"business_hours\",\"salary\",\"lat\",\"lng\"]\n",
    "cc.to_csv(r\"lawson.csv\",encoding=\"utf_8_sig\",index=False)"
   ]
  }
 ],
 "metadata": {
  "kernelspec": {
   "display_name": "Python 3",
   "language": "python",
   "name": "python3"
  },
  "language_info": {
   "codemirror_mode": {
    "name": "ipython",
    "version": 3
   },
   "file_extension": ".py",
   "mimetype": "text/x-python",
   "name": "python",
   "nbconvert_exporter": "python",
   "pygments_lexer": "ipython3",
   "version": "3.8.5"
  }
 },
 "nbformat": 4,
 "nbformat_minor": 2
}
