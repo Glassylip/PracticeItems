{
 "cells": [
  {
   "cell_type": "code",
   "execution_count": 1,
   "metadata": {},
   "outputs": [],
   "source": [
    "import sys,re,random\n",
    "from bs4 import BeautifulSoup as bs\n",
    "import pandas as pd\n",
    "from tqdm import tqdm\n",
    "from selenium import webdriver\n",
    "from selenium.webdriver.chrome.options import Options\n",
    "import nest_asyncio\n",
    "import aiohttp\n",
    "import asyncio"
   ]
  },
  {
   "cell_type": "code",
   "execution_count": 2,
   "metadata": {},
   "outputs": [],
   "source": [
    "nest_asyncio.apply()"
   ]
  },
  {
   "cell_type": "markdown",
   "metadata": {},
   "source": [
    "# Store URL"
   ]
  },
  {
   "cell_type": "code",
   "execution_count": 3,
   "metadata": {
    "scrolled": true
   },
   "outputs": [
    {
     "name": "stdout",
     "output_type": "stream",
     "text": [
      "27.53646159172058\n"
     ]
    }
   ],
   "source": [
    "urls=[]\n",
    "main_url=\"http://staff.family.co.jp/dsaiyo/cofm/search?pc=&cc=cofm&pu=&ac=&cb=all&st=&pcs%5B%5D=01\"\n",
    "\n",
    "# Chrome\n",
    "options = Options()\n",
    "driver = webdriver.Chrome(options = options)\n",
    "driver.get(main_url)\n",
    "while True:\n",
    "    try:\n",
    "        driver.find_element_by_xpath('//*[@id=\"job-list-readmore\"]/form/input[1]').click()\n",
    "        time.sleep(2)\n",
    "    except: \n",
    "        soup = bs(driver.page_source, \"lxml\")\n",
    "        urls_=soup.select('p[class=\"btn-detail\"] > a')\n",
    "        for i in range(len(urls_)):\n",
    "            urls.append(\"http://staff.family.co.jp\"+re.findall(r\"=\\\"(.+)\\\"\",str(urls_[i]))[0])\n",
    "        \n",
    "        driver.quit()\n",
    "        break\n",
    "        \n",
    "urls=set(urls)"
   ]
  },
  {
   "cell_type": "markdown",
   "metadata": {},
   "source": [
    "# Store name, address, hourly wage"
   ]
  },
  {
   "cell_type": "code",
   "execution_count": 4,
   "metadata": {},
   "outputs": [],
   "source": [
    "async def fetch(session, url):\n",
    "    async with session.get(url) as html:\n",
    "        return await html.text()"
   ]
  },
  {
   "cell_type": "code",
   "execution_count": 5,
   "metadata": {},
   "outputs": [],
   "source": [
    "async def parser(html):\n",
    "    soup=bs(html,'lxml')\n",
    "    #time.sleep(random.uniform(0.5,1.5))\n",
    "    shop=soup.select('h1')\n",
    "    if shop:\n",
    "        sl=soup.select('p[class=\"salary\"]')[0]\n",
    "        name.append(re.findall(r\">(.+)<\",str(shop))[0])\n",
    "        ads.append(re.findall(r\">(.+)<\",str(soup.select('tr>td')[1]))[0])\n",
    "        salary.append(re.findall(r\"\\d*\\,*\\d+\",str(sl))[0])\n"
   ]
  },
  {
   "cell_type": "code",
   "execution_count": 6,
   "metadata": {},
   "outputs": [],
   "source": [
    "async def download(url):\n",
    "    async with aiohttp.ClientSession() as session:\n",
    "        html = await fetch(session, url)\n",
    "        await parser(html)"
   ]
  },
  {
   "cell_type": "code",
   "execution_count": null,
   "metadata": {},
   "outputs": [],
   "source": [
    "name=[]\n",
    "salary=[]\n",
    "ads=[]\n",
    "\n",
    "loop = asyncio.get_event_loop()\n",
    "tasks = [asyncio.ensure_future(download(url)) for url in urls]\n",
    "tasks = asyncio.gather(*tasks)\n",
    "loop.run_until_complete(tasks)"
   ]
  },
  {
   "cell_type": "code",
   "execution_count": 9,
   "metadata": {},
   "outputs": [],
   "source": [
    "df=pd.read_pickle(r\"ce.pkl\")"
   ]
  },
  {
   "cell_type": "code",
   "execution_count": 10,
   "metadata": {},
   "outputs": [],
   "source": [
    "shop=[\"ファミリーマート\" for i in range(len(name))]\n",
    "shop1=pd.DataFrame(shop)\n",
    "name1=pd.DataFrame(name)\n",
    "ads1=pd.DataFrame(ads)\n",
    "salary1=pd.DataFrame(salary)"
   ]
  },
  {
   "cell_type": "code",
   "execution_count": 9,
   "metadata": {},
   "outputs": [
    {
     "data": {
      "text/plain": [
       "199"
      ]
     },
     "execution_count": 9,
     "metadata": {},
     "output_type": "execute_result"
    }
   ],
   "source": [
    "len(urls)"
   ]
  },
  {
   "cell_type": "code",
   "execution_count": 14,
   "metadata": {
    "scrolled": true
   },
   "outputs": [],
   "source": [
    "cc=pd.concat([shop1,name1,ads1,salary1],axis=1)\n",
    "cc.columns=[\"shop\",\"name\",\"address\",\"salary\"]\n",
    "cc=pd.concat([df,cc],axis=0)\n",
    "cc.to_pickle(r\"ce.pkl\")"
   ]
  },
  {
   "cell_type": "markdown",
   "metadata": {},
   "source": [
    "# Store latitude and longitude, business hours"
   ]
  },
  {
   "cell_type": "code",
   "execution_count": null,
   "metadata": {},
   "outputs": [],
   "source": [
    "lat=[]\n",
    "lng=[]\n",
    "tm=[]\n",
    "main_url=\"https://www.google.com/maps/\"\n",
    "options = Options()\n",
    "driver = webdriver.Chrome(options = options)\n",
    "driver.get(main_url)\n",
    "for i in tqdm(range(len(name))):\n",
    "    #google map 検索-入力\n",
    "    driver.find_element_by_id('searchboxinput').send_keys(name[i])\n",
    "    driver.find_element_by_id('searchbox-searchbutton').click()\n",
    "    time.sleep(3)\n",
    "    lat_=re.findall(r\"3d(\\d+\\.*\\d+)!4d\",driver.current_url)[0]\n",
    "    lng_=re.findall(r\".+4d(.+)$\",driver.current_url)[0]\n",
    "    lat.append(lat_)\n",
    "    lng.append(lng_)\n",
    "    \n",
    "    tm.append(driver.find_element_by_xpath('//*[@id=\"pane\"]/div/div[1]/div/div/div[12]/div[1]/span[2]/span[2]').text)\n",
    "    \n",
    "    driver.find_element_by_id('searchboxinput').clear()\n",
    "driver.quit()"
   ]
  },
  {
   "cell_type": "markdown",
   "metadata": {},
   "source": [
    "# Data storage"
   ]
  },
  {
   "cell_type": "code",
   "execution_count": null,
   "metadata": {},
   "outputs": [],
   "source": [
    "name1=pd.DataFrame(name)\n",
    "ads1=pd.DataFrame(ads)\n",
    "tm1=pd.DataFrame(tm)\n",
    "salary1==pd.DataFrame(salary)\n",
    "lat1=pd.DataFrame(lat)\n",
    "lng1=pd.DataFrame(lng)"
   ]
  },
  {
   "cell_type": "code",
   "execution_count": null,
   "metadata": {},
   "outputs": [],
   "source": [
    "cc=pd.concat([name1,ads1,tm1,salary1,lat1,lng1],axis=1)\n",
    "cc.columns=[\"name\",\"address\",\"business_hours\",\"salary\",\"lat\",\"lng\"]\n",
    "cc.to_csv(r\"familymart.csv\",encoding=\"utf_8_sig\",index=False)"
   ]
  }
 ],
 "metadata": {
  "kernelspec": {
   "display_name": "Python 3",
   "language": "python",
   "name": "python3"
  },
  "language_info": {
   "codemirror_mode": {
    "name": "ipython",
    "version": 3
   },
   "file_extension": ".py",
   "mimetype": "text/x-python",
   "name": "python",
   "nbconvert_exporter": "python",
   "pygments_lexer": "ipython3",
   "version": "3.8.5"
  }
 },
 "nbformat": 4,
 "nbformat_minor": 2
}
