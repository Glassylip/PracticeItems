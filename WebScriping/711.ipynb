{
 "cells": [
  {
   "cell_type": "code",
   "execution_count": 3,
   "metadata": {},
   "outputs": [],
   "source": [
    "import sys,re,time,random\n",
    "from bs4 import BeautifulSoup as bs\n",
    "import pandas as pd\n",
    "from tqdm import tqdm\n",
    "from selenium import webdriver\n",
    "from selenium.webdriver.chrome.options import Options\n",
    "import lxml.html\n",
    "import nest_asyncio\n",
    "import requests\n",
    "import aiohttp\n",
    "import asyncio\n",
    "#import geocoder\n",
    "#from fake_useragent import UserAgent"
   ]
  },
  {
   "cell_type": "code",
   "execution_count": 4,
   "metadata": {},
   "outputs": [],
   "source": [
    "nest_asyncio.apply()"
   ]
  },
  {
   "cell_type": "markdown",
   "metadata": {},
   "source": [
    "# Store url"
   ]
  },
  {
   "cell_type": "code",
   "execution_count": 5,
   "metadata": {},
   "outputs": [],
   "source": [
    "async def fetch(session, url):\n",
    "    #headers = {'User-Agent': UserAgent().random}\n",
    "    #async with session.get(url,proxy=proxy) as html:\n",
    "    async with session.get(url) as html:\n",
    "        return await html.text()"
   ]
  },
  {
   "cell_type": "code",
   "execution_count": 6,
   "metadata": {},
   "outputs": [],
   "source": [
    "async def parser(html):\n",
    "    soup=bs(html,'lxml')\n",
    "    urls_=soup.select('li[class=\"item_wrap\"]>a[class=\"_link\"]')\n",
    "    #時給\n",
    "    for i in range(len(urls_)):\n",
    "        urls.append(\"https://www.sej.co.jp/\"+re.findall(r\"href=\\\"(.+);jsessionid\",str(urls_[i]))[0])"
   ]
  },
  {
   "cell_type": "code",
   "execution_count": 7,
   "metadata": {},
   "outputs": [],
   "source": [
    "async def download(url):\n",
    "    async with aiohttp.ClientSession() as session:\n",
    "        html = await fetch(session, url) \n",
    "        await parser(html)"
   ]
  },
  {
   "cell_type": "code",
   "execution_count": null,
   "metadata": {},
   "outputs": [],
   "source": [
    "urls=[]\n",
    "main_url=\"https://www.sej.co.jp/arbeit/recruitment/jobfind-pc/area/HokkaidoTohoku/Hokkaido?page=\"\n",
    "#ページ数とる\n",
    "html=requests.get(main_url)\n",
    "soup=bs(html.text,'lxml')\n",
    "page_sum=soup.select('span[class=\"num_wrap\"]>span[class=\"_num _orange\"]')\n",
    "page_=int(re.findall(r\"\\d+\",str(page_sum))[0])\n",
    "page=round(page_/20)+1\n",
    "\n",
    "#非同期ループ\n",
    "loop = asyncio.get_event_loop()\n",
    "tasks = [asyncio.ensure_future(download(main_url+str(i))) for i in range(1,page)]\n",
    "tasks = asyncio.gather(*tasks)\n",
    "loop.run_until_complete(tasks)\n",
    "\n",
    "urls=set(urls)"
   ]
  },
  {
   "cell_type": "markdown",
   "metadata": {},
   "source": [
    "# Store Address"
   ]
  },
  {
   "cell_type": "code",
   "execution_count": 7,
   "metadata": {},
   "outputs": [],
   "source": [
    "async def parser_ads(html):\n",
    "    soup=bs(html,'lxml')\n",
    "    #time.sleep(random.uniform(0.5,1.5))\n",
    "    #店舗名\n",
    "    name_=soup.select('span[class=\"main\"]')\n",
    "    if name_:\n",
    "        name1=re.findall(r\"<br/>(.+)<\",str(name_))[0]\n",
    "        name.append(name1.replace(\" \",\"\"))\n",
    "        #時給\n",
    "        sl=soup.select('ul[class=\"infolist\"] > li')[0]\n",
    "        salary_=re.findall(r\"(\\d*\\,*\\d+)\\s円\",str(sl))\n",
    "        salary.append(min([int(i.replace(\",\",\"\")) for i in salary_]))\n",
    "        #住所\n",
    "        address=soup.select('ul[class=\"infolist\"] > li')[1].p\n",
    "        ads.append(re.findall(r\"\\s*(.+)\\s*</p>\",str(address))[0].replace(\" \",\"\"))"
   ]
  },
  {
   "cell_type": "code",
   "execution_count": 8,
   "metadata": {},
   "outputs": [],
   "source": [
    "async def download_ads(url):\n",
    "    async with aiohttp.ClientSession() as session:\n",
    "        html = await fetch(session, url)\n",
    "        await parser_ads(html)"
   ]
  },
  {
   "cell_type": "code",
   "execution_count": null,
   "metadata": {},
   "outputs": [],
   "source": [
    "ads=[]\n",
    "name=[]\n",
    "salary=[]\n",
    "loop = asyncio.get_event_loop()\n",
    "tasks = [asyncio.ensure_future(download_ads(url)) for url in urls]\n",
    "tasks = asyncio.gather(*tasks)\n",
    "loop.run_until_complete(tasks)"
   ]
  },
  {
   "cell_type": "code",
   "execution_count": 17,
   "metadata": {},
   "outputs": [],
   "source": [
    "shop=[\"セブンイレブン\" for i in range(len(name))]\n",
    "shop1=pd.DataFrame(shop)\n",
    "name1=pd.DataFrame(name)\n",
    "ads1=pd.DataFrame(ads)\n",
    "salary1=pd.DataFrame(salary)"
   ]
  },
  {
   "cell_type": "code",
   "execution_count": 22,
   "metadata": {},
   "outputs": [
    {
     "data": {
      "text/plain": [
       "796"
      ]
     },
     "execution_count": 22,
     "metadata": {},
     "output_type": "execute_result"
    }
   ],
   "source": [
    "len(urls)"
   ]
  },
  {
   "cell_type": "code",
   "execution_count": 19,
   "metadata": {
    "scrolled": true
   },
   "outputs": [],
   "source": [
    "cc=pd.concat([shop1,name1,ads1,salary1],axis=1)\n",
    "cc.columns=[\"shop\",\"name\",\"address\",\"salary\"]\n",
    "cc.to_pickle(r\"ce.pkl\")"
   ]
  },
  {
   "cell_type": "markdown",
   "metadata": {},
   "source": [
    "# Store latitude and longitude, business hours"
   ]
  },
  {
   "cell_type": "code",
   "execution_count": null,
   "metadata": {},
   "outputs": [],
   "source": [
    "lat=[]\n",
    "lng=[]\n",
    "tm=[]\n",
    "main_url=\"https://www.google.com/maps/\"\n",
    "options = Options()\n",
    "driver = webdriver.Chrome(options = options)\n",
    "driver.get(main_url)\n",
    "for i in tqdm(range(len(name))):\n",
    "    #google map 検索-入力\n",
    "    driver.find_element_by_id('searchboxinput').send_keys(name[i])\n",
    "    driver.find_element_by_id('searchbox-searchbutton').click()\n",
    "    time.sleep(3)\n",
    "    lat_=re.findall(r\"3d(\\d+\\.*\\d+)!4d\",driver.current_url)[0]\n",
    "    lng_=re.findall(r\".+4d(.+)$\",driver.current_url)[0]\n",
    "    lat.append(lat_)\n",
    "    lng.append(lng_)\n",
    "    \n",
    "    tm.append(driver.find_element_by_xpath('//*[@id=\"pane\"]/div/div[1]/div/div/div[12]/div[1]/span[2]/span[2]').text)\n",
    "    \n",
    "    driver.find_element_by_id('searchboxinput').clear()\n",
    "driver.quit()\n"
   ]
  },
  {
   "cell_type": "markdown",
   "metadata": {},
   "source": [
    "# Data storage"
   ]
  },
  {
   "cell_type": "code",
   "execution_count": null,
   "metadata": {},
   "outputs": [],
   "source": [
    "name1=pd.DataFrame(name)\n",
    "ads1=pd.DataFrame(ads)\n",
    "tm1=pd.DataFrame(tm)\n",
    "salary1==pd.DataFrame(salary)\n",
    "lat1=pd.DataFrame(lat)\n",
    "lng1=pd.DataFrame(lng)"
   ]
  },
  {
   "cell_type": "code",
   "execution_count": null,
   "metadata": {},
   "outputs": [],
   "source": [
    "cc=pd.concat([name1,ads1,tm1,salary1,lat1,lng1],axis=1)\n",
    "cc.columns=[\"name\",\"address\",\"business_hours\",\"salary\",\"lat\",\"lng\"]\n",
    "cc.to_csv(r\"711.csv\",encoding=\"utf_8_sig\",index=False)"
   ]
  }
 ],
 "metadata": {
  "kernelspec": {
   "display_name": "Python 3",
   "language": "python",
   "name": "python3"
  },
  "language_info": {
   "codemirror_mode": {
    "name": "ipython",
    "version": 3
   },
   "file_extension": ".py",
   "mimetype": "text/x-python",
   "name": "python",
   "nbconvert_exporter": "python",
   "pygments_lexer": "ipython3",
   "version": "3.8.5"
  }
 },
 "nbformat": 4,
 "nbformat_minor": 2
}
